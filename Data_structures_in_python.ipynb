{
 "cells": [
  {
   "cell_type": "markdown",
   "id": "9bb1617f-2244-449d-822c-b0c9aea04918",
   "metadata": {},
   "source": [
    "Question 1:-\n"
   ]
  },
  {
   "cell_type": "code",
   "execution_count": 2,
   "id": "5591b354-8bdc-4ead-9544-30457710ff10",
   "metadata": {},
   "outputs": [
    {
     "data": {
      "text/plain": [
       "'ia neg htiw nohtyp'"
      ]
     },
     "execution_count": 2,
     "metadata": {},
     "output_type": "execute_result"
    }
   ],
   "source": [
    "#code to reverse a string\n",
    "s = \"python with gen ai\"\n",
    "s[::-1]"
   ]
  },
  {
   "cell_type": "markdown",
   "id": "a2b26b33-1d83-43fb-87e4-17dec2a19a09",
   "metadata": {},
   "source": [
    "Question 2:-"
   ]
  },
  {
   "cell_type": "code",
   "execution_count": 6,
   "id": "fc5286ca-ec5f-48ef-aa35-8e0905d7d588",
   "metadata": {},
   "outputs": [
    {
     "name": "stdout",
     "output_type": "stream",
     "text": [
      "the number of vowels is 5\n"
     ]
    }
   ],
   "source": [
    "#code to count the number of vowels in a string \n",
    "s = \"python with gen ai\"\n",
    "count = 0\n",
    "for i in s:\n",
    "    if i in \"aeiou\":\n",
    "        count+=1\n",
    "print(\"the number of vowels is\",count)"
   ]
  },
  {
   "cell_type": "markdown",
   "id": "4cd50f86-2d71-4fcf-904e-c069fe7d40ec",
   "metadata": {},
   "source": [
    "Question 3 :-"
   ]
  },
  {
   "cell_type": "code",
   "execution_count": 10,
   "id": "32b82b58-db7f-4d9c-acbf-f32c396e399b",
   "metadata": {},
   "outputs": [
    {
     "name": "stdin",
     "output_type": "stream",
     "text": [
      "enter a string level\n"
     ]
    },
    {
     "name": "stdout",
     "output_type": "stream",
     "text": [
      "the given string is palindrome\n"
     ]
    }
   ],
   "source": [
    "#code to check the string is palindrome or not\n",
    "s = input(\"enter a string\")\n",
    "if(s == s[::-1]):\n",
    "    print(\"the given string is palindrome\")\n",
    "else:\n",
    "    print(\"not a palindrome\")"
   ]
  },
  {
   "cell_type": "markdown",
   "id": "0087d3d2-6807-4db8-955f-9946042686b6",
   "metadata": {},
   "source": [
    "Question 4:-"
   ]
  },
  {
   "cell_type": "code",
   "execution_count": 15,
   "id": "0fed160b-bcad-40ed-96fa-20e88c90299f",
   "metadata": {},
   "outputs": [
    {
     "name": "stdin",
     "output_type": "stream",
     "text": [
      "enter the first string anagram\n",
      "enter the second string nagaram\n"
     ]
    },
    {
     "name": "stdout",
     "output_type": "stream",
     "text": [
      "the string are anagram of each other\n"
     ]
    }
   ],
   "source": [
    "s = input(\"enter the first string\")\n",
    "p = input(\"enter the second string\")\n",
    "if(sorted(s) == sorted(p)):\n",
    "    print(\"the string are anagram of each other\")\n",
    "else:\n",
    "    print(\"the string are not an anagrams\")"
   ]
  },
  {
   "cell_type": "markdown",
   "id": "e98269ee-c24c-4cb6-81e4-a23e9eedcce0",
   "metadata": {},
   "source": [
    "Question 5:-\n"
   ]
  },
  {
   "cell_type": "code",
   "execution_count": 18,
   "id": "30ba061e-b8c9-408f-9704-fe4df1b4fc6e",
   "metadata": {},
   "outputs": [
    {
     "name": "stdout",
     "output_type": "stream",
     "text": [
      "the number of occurence of str 2\n"
     ]
    }
   ],
   "source": [
    "#to count the number of ocurrence of a given substring.\n",
    "s = \"python-ai with gen ai\"\n",
    "subs = \"ai\"\n",
    "count = s.count(subs)\n",
    "print(\"the number of occurence of str\",count)"
   ]
  },
  {
   "cell_type": "markdown",
   "id": "a8e069e0-50ce-4c1a-80f9-bbe3fb2bb138",
   "metadata": {},
   "source": [
    "Question 6:-"
   ]
  },
  {
   "cell_type": "code",
   "execution_count": 12,
   "id": "069b99ad-1256-4b73-87d5-3c28dda768c9",
   "metadata": {},
   "outputs": [
    {
     "name": "stdout",
     "output_type": "stream",
     "text": [
      "a3b3c3d1e2f2\n"
     ]
    }
   ],
   "source": [
    "#to compress the string \n",
    "s = \"aaabbbcccdeeff\"\n",
    "comp_str = \"\"\n",
    "count = 1\n",
    "for i in range(len(s)):\n",
    "    if(i+1<len(s) and s[i] == s[i+1]):\n",
    "        count +=1\n",
    "    else:\n",
    "        comp_str += s[i] + str(count)\n",
    "        count = 1\n",
    "if(len(comp_str)<= len(s)):\n",
    "    print(comp_str)\n",
    "else:\n",
    "    print(s)"
   ]
  },
  {
   "cell_type": "markdown",
   "id": "575882ba-ae2b-494b-b11a-607182b6f71f",
   "metadata": {},
   "source": [
    "question 7:- \n"
   ]
  },
  {
   "cell_type": "code",
   "execution_count": 16,
   "id": "36745414-5d33-49f8-b1c4-c122780d620b",
   "metadata": {},
   "outputs": [
    {
     "name": "stdin",
     "output_type": "stream",
     "text": [
      "Enter the string:  hello\n"
     ]
    },
    {
     "name": "stdout",
     "output_type": "stream",
     "text": [
      "The string has repeated characters.\n"
     ]
    }
   ],
   "source": [
    "s = input(\"Enter the string: \")\n",
    "char_list = [] \n",
    "flag = True\n",
    "\n",
    "for char in s:\n",
    "    if char not in char_list:\n",
    "        char_list.append(char)\n",
    "    else:\n",
    "        print(\"The string has repeated characters.\")\n",
    "        flag = False\n",
    "        break\n",
    "\n",
    "if flag:\n",
    "    print(\"The string has unique characters.\")"
   ]
  },
  {
   "cell_type": "markdown",
   "id": "059d2bfb-6aff-4672-b7e8-37e34eb6586e",
   "metadata": {},
   "source": [
    "Question 8"
   ]
  },
  {
   "cell_type": "code",
   "execution_count": 17,
   "id": "087b380b-11a5-4948-82a7-578bb9b71540",
   "metadata": {},
   "outputs": [
    {
     "name": "stdin",
     "output_type": "stream",
     "text": [
      "enter the string heLLo World\n"
     ]
    },
    {
     "name": "stdout",
     "output_type": "stream",
     "text": [
      "Lower case : hello world\n",
      "upper case:  HELLO WORLD\n"
     ]
    }
   ],
   "source": [
    "s = input(\"enter the string\")\n",
    "print(\"Lower case :\",s.lower())\n",
    "print(\"upper case: \",s.upper())"
   ]
  },
  {
   "cell_type": "markdown",
   "id": "46608815-4bb4-4657-9ca3-8386986d3fc5",
   "metadata": {},
   "source": [
    "Question 9"
   ]
  },
  {
   "cell_type": "code",
   "execution_count": 18,
   "id": "ebd6d278-2631-47f1-bc2b-1c0828940682",
   "metadata": {},
   "outputs": [
    {
     "name": "stdin",
     "output_type": "stream",
     "text": [
      "enter the string rakshit is good boy\n"
     ]
    },
    {
     "data": {
      "text/plain": [
       "4"
      ]
     },
     "execution_count": 18,
     "metadata": {},
     "output_type": "execute_result"
    }
   ],
   "source": [
    "s = input(\"enter the string\")\n",
    "l = s.split(\" \")\n",
    "len(l)"
   ]
  },
  {
   "cell_type": "markdown",
   "id": "60fc51db-0f81-4cbe-971f-c62e7df78488",
   "metadata": {},
   "source": [
    "Question 10"
   ]
  },
  {
   "cell_type": "code",
   "execution_count": 19,
   "id": "6f2122c2-7b50-4b5a-b537-7fc8c886b462",
   "metadata": {},
   "outputs": [
    {
     "data": {
      "text/plain": [
       "'rakshitgupta'"
      ]
     },
     "execution_count": 19,
     "metadata": {},
     "output_type": "execute_result"
    }
   ],
   "source": [
    "s1 = \"rakshit\"\n",
    "s2 = \"gupta\"\n",
    "s1+s2"
   ]
  },
  {
   "cell_type": "markdown",
   "id": "f053e4d0-3741-4f91-b5ce-084dd3fb56fc",
   "metadata": {},
   "source": [
    "Question 11"
   ]
  },
  {
   "cell_type": "code",
   "execution_count": 23,
   "id": "4073691c-a71d-4e4e-b589-5d21a1240c7d",
   "metadata": {},
   "outputs": [
    {
     "name": "stdin",
     "output_type": "stream",
     "text": [
      "enter the element to be removed 23\n"
     ]
    },
    {
     "name": "stdout",
     "output_type": "stream",
     "text": [
      "list after removing the element [1, 4, 5, 6, 3]\n"
     ]
    }
   ],
   "source": [
    "my_list = [1,23,4,5,6,3,23]\n",
    "elem = int(input(\"enter the element to be removed\"))\n",
    "for i in my_list:\n",
    "    if(elem == i):\n",
    "        my_list.remove(i)\n",
    "print(\"list after removing the element\" , my_list)"
   ]
  },
  {
   "cell_type": "code",
   "execution_count": 37,
   "id": "140d09ed-feb3-4a45-8240-5cbf0a977efb",
   "metadata": {},
   "outputs": [
    {
     "name": "stdout",
     "output_type": "stream",
     "text": [
      "12\n"
     ]
    }
   ],
   "source": [
    "# Question 12 \n",
    "list = [12,3,2,1,4,6,34,2]\n",
    "sorted_list = sorted(list,reverse = True)\n",
    "if(len(sorted_list)<2): print(\"less than two elements\")\n",
    "else: print(sorted_list[1])"
   ]
  },
  {
   "cell_type": "markdown",
   "id": "e9e1a9ab-6458-4d07-a115-e12a700913f9",
   "metadata": {},
   "source": [
    "Question 13"
   ]
  },
  {
   "cell_type": "code",
   "execution_count": 29,
   "id": "1c07e575-88dd-4aaa-b435-57fe7583a048",
   "metadata": {},
   "outputs": [
    {
     "name": "stdout",
     "output_type": "stream",
     "text": [
      "{12: 2, 232: 1, 3: 3, 323: 2, 4: 1, 5: 1, 23: 1}\n"
     ]
    }
   ],
   "source": [
    "my_dict = {}\n",
    "list  = [12,232,12,3,3,323,4,5,323,23,3]\n",
    "for i in list:\n",
    "    if(i in my_dict):\n",
    "        my_dict[i] += 1\n",
    "    else:\n",
    "        my_dict[i] = 1\n",
    "print(my_dict)\n",
    "    \n",
    "        "
   ]
  },
  {
   "cell_type": "markdown",
   "id": "bc7e9ab6-4e49-4f31-8180-50aa7a1c944c",
   "metadata": {},
   "source": [
    "Question 14"
   ]
  },
  {
   "cell_type": "code",
   "execution_count": 32,
   "id": "4edadb55-704c-41a8-a26c-e25cef80fc73",
   "metadata": {},
   "outputs": [
    {
     "name": "stdout",
     "output_type": "stream",
     "text": [
      "[3, 23, 323, 5, 4, 323, 3, 3, 12, 232, 12]\n"
     ]
    }
   ],
   "source": [
    "list = [12,232,12,3,3,323,4,5,323,23,3]\n",
    "for i in range(len(list)//2):\n",
    "    list[i],list[len(list)-i-1] = list[len(list)-i-1],list[i]\n",
    "print(list)"
   ]
  },
  {
   "cell_type": "markdown",
   "id": "7c1ea91b-35e2-4412-93d0-7e5265241366",
   "metadata": {},
   "source": [
    "Question 15"
   ]
  },
  {
   "cell_type": "code",
   "execution_count": 33,
   "id": "f2ea1216-010b-4829-8820-d7a6d696ec25",
   "metadata": {},
   "outputs": [
    {
     "name": "stdout",
     "output_type": "stream",
     "text": [
      "[1, 2, 3, 4, 5, 6]\n"
     ]
    }
   ],
   "source": [
    "visited = {}\n",
    "result = []\n",
    "list = [1,2,3,1,2,3,4,5,6]\n",
    "for i in list:\n",
    "    if i not in visited:\n",
    "        visited[i] = True\n",
    "        result.append(i)\n",
    "print(result)\n",
    "        \n",
    "        "
   ]
  },
  {
   "cell_type": "markdown",
   "id": "83332e85-0b46-480a-95a1-9a2868510d4c",
   "metadata": {},
   "source": [
    "Question 16"
   ]
  },
  {
   "cell_type": "code",
   "execution_count": 36,
   "id": "4ed29f34-afba-4504-a089-00f988c96b80",
   "metadata": {},
   "outputs": [
    {
     "name": "stdout",
     "output_type": "stream",
     "text": [
      "list is sorted\n"
     ]
    }
   ],
   "source": [
    "list = [6,5,4,1]\n",
    "if(list == sorted(list) or list == sorted(list, reverse = True)):\n",
    "    print(\"list is sorted\")\n",
    "else:\n",
    "    print(\"list is not sorted\")"
   ]
  },
  {
   "cell_type": "markdown",
   "id": "ce11c67f-f1be-46ea-8b5d-3e7fd8369515",
   "metadata": {},
   "source": [
    "question 17"
   ]
  },
  {
   "cell_type": "code",
   "execution_count": 38,
   "id": "b07675f7-2b83-4bcf-862b-41ae5488bf6b",
   "metadata": {},
   "outputs": [
    {
     "name": "stdout",
     "output_type": "stream",
     "text": [
      "[1, 2, 3, 4, 5, 6, 21, 22, 23, 34, 45, 56]\n"
     ]
    }
   ],
   "source": [
    "list1 = [1,2,3,4,5,6]\n",
    "list2 = [21,22,23,34,45,56]\n",
    "merged_list = sorted(list1 + list2)\n",
    "print(merged_list) "
   ]
  },
  {
   "cell_type": "markdown",
   "id": "adce8045-5673-43f2-a583-29dfe5bf0cc4",
   "metadata": {},
   "source": [
    "question 18"
   ]
  },
  {
   "cell_type": "code",
   "execution_count": 1,
   "id": "57b582c6-d7f9-4b0e-a0a6-10876286a60a",
   "metadata": {},
   "outputs": [
    {
     "name": "stdout",
     "output_type": "stream",
     "text": [
      "{4, 5}\n"
     ]
    }
   ],
   "source": [
    "list1 = [1, 2, 3, 4, 5]\n",
    "list2 = [4, 5, 6, 7, 8]\n",
    "x= set(list1)\n",
    "y= set(list2)\n",
    "result  = x.intersection(y)\n",
    "print(result)"
   ]
  },
  {
   "cell_type": "markdown",
   "id": "d140465d-c268-4ae7-971c-fc786ed6b436",
   "metadata": {},
   "source": [
    "Qusetion 19"
   ]
  },
  {
   "cell_type": "code",
   "execution_count": 2,
   "id": "cc8f8f28-bbb6-4bce-9067-cbf4f3012e58",
   "metadata": {},
   "outputs": [
    {
     "name": "stdout",
     "output_type": "stream",
     "text": [
      "{1, 2, 3, 4, 5, 6, 7, 8}\n"
     ]
    }
   ],
   "source": [
    "list1 = [1, 2, 3, 4, 5, 5]\n",
    "list2 = [4, 5, 6, 7, 6, 8]\n",
    "x= set(list1)\n",
    "y= set(list2)\n",
    "union = x.union(y)\n",
    "print(union)"
   ]
  },
  {
   "cell_type": "markdown",
   "id": "be4dcd0e-7ce5-47bb-b9e0-3bd97458d13c",
   "metadata": {},
   "source": [
    "Question 20"
   ]
  },
  {
   "cell_type": "code",
   "execution_count": 5,
   "id": "17e79ee4-5528-416c-8a1b-51355da50337",
   "metadata": {},
   "outputs": [
    {
     "name": "stdout",
     "output_type": "stream",
     "text": [
      "[3, 1, 5, 4, 2, 5]\n"
     ]
    }
   ],
   "source": [
    "import random\n",
    "s = [1, 2, 3, 4, 5, 5]\n",
    "for i in range(len(s)-1,0,-1):\n",
    "    j = random.randint(0,i)\n",
    "    s[i], s[j] = s[j] , s[i]\n",
    "print(s)"
   ]
  },
  {
   "cell_type": "markdown",
   "id": "d5417db9-1b1f-4322-be25-63a478cff47b",
   "metadata": {},
   "source": [
    "Question 21"
   ]
  },
  {
   "cell_type": "code",
   "execution_count": 4,
   "id": "79b73be7-2b9c-4ce2-8db4-b26032e29c61",
   "metadata": {},
   "outputs": [
    {
     "name": "stdin",
     "output_type": "stream",
     "text": [
      "enter the tuple (12,23,4,2)\n",
      "enter the tuple (12,34,2)\n"
     ]
    },
    {
     "name": "stdout",
     "output_type": "stream",
     "text": [
      "intersection of tuple ('2', '12')\n"
     ]
    }
   ],
   "source": [
    "t1 = tuple(input(\"enter the tuple\").strip('()').split(','))\n",
    "t2 = tuple(input(\"enter the tuple\").strip('()').split(','))\n",
    "s1 = set(t1)\n",
    "s2 = set(t2)\n",
    "t3 = s1&s2\n",
    "print(\"intersection of tuple\",tuple(t3))"
   ]
  },
  {
   "cell_type": "code",
   "execution_count": 19,
   "id": "2b23d200-cd20-4f3f-a1cc-274c86fcc112",
   "metadata": {},
   "outputs": [
    {
     "name": "stdin",
     "output_type": "stream",
     "text": [
      "enter the value for set one 1,2,3,4,5,6\n",
      "enter the value for set two 3,4,5,6,7,8\n"
     ]
    },
    {
     "name": "stdout",
     "output_type": "stream",
     "text": [
      "{3, 4, 5, 6}\n"
     ]
    }
   ],
   "source": [
    "#question 22\n",
    "s1 = input(\"enter the value for set one\").split(',')\n",
    "s2 = input(\"enter the value for set two\").split(',')\n",
    "my_set1 = {int(i) for i in s1}\n",
    "my_set2 = {int(i) for i in s2}\n",
    "print(my_set1&my_set2)"
   ]
  },
  {
   "cell_type": "markdown",
   "id": "bb6fef09-365e-4020-af15-c91611b50b96",
   "metadata": {},
   "source": [
    "Question 23"
   ]
  },
  {
   "cell_type": "code",
   "execution_count": 13,
   "id": "a91aeaf0-0f00-4ff3-a75d-b10e1a59a0bd",
   "metadata": {},
   "outputs": [
    {
     "name": "stdout",
     "output_type": "stream",
     "text": [
      "(12, 23, 3, 4, 5, 12, 3, 4, 5, 6, 7)\n"
     ]
    }
   ],
   "source": [
    "def conc_tuple(t1,t2):\n",
    "    '''concatenate two tuples. '''\n",
    "    return t1+t2\n",
    "t1 = (12,23,3,4,5)\n",
    "t2 = (12,3,4,5,6,7)\n",
    "result = conc_tuple(t1,t2)\n",
    "print(result)"
   ]
  },
  {
   "cell_type": "code",
   "execution_count": 17,
   "id": "16216729-c093-47f6-b579-01c98b5331a5",
   "metadata": {},
   "outputs": [
    {
     "name": "stdin",
     "output_type": "stream",
     "text": [
      "enter the set1 hello,python,datascience,ml\n",
      "enter the set2 hello,python\n"
     ]
    },
    {
     "name": "stdout",
     "output_type": "stream",
     "text": [
      "{'python', 'ml', 'hello', 'datascience'}\n",
      "{'python', 'hello'}\n",
      "{'datascience', 'ml'}\n"
     ]
    }
   ],
   "source": [
    "# Question 24\n",
    "s1 = set(input(\"enter the set1\").split(','))\n",
    "s2 = set(input(\"enter the set2\").split(','))\n",
    "print(s1)\n",
    "print(s2)\n",
    "print(s1-s2)"
   ]
  },
  {
   "cell_type": "markdown",
   "id": "371c4078-5f39-49e0-a857-46a013cb59ba",
   "metadata": {},
   "source": [
    "Question 25"
   ]
  },
  {
   "cell_type": "code",
   "execution_count": 18,
   "id": "17f16db4-ddcb-4734-90f6-547037f132f9",
   "metadata": {},
   "outputs": [
    {
     "name": "stdout",
     "output_type": "stream",
     "text": [
      "(2, 3, 4, 5)\n"
     ]
    }
   ],
   "source": [
    "def slice_tuple(inp_tuple,start,end):\n",
    "    if(start>end or end>=len(inp_tuple)or start<0):\n",
    "        return()\n",
    "    return inp_tuple[start:end+1]\n",
    "tup = (1,2,3,4,5,6,7,8,9)\n",
    "start = 1\n",
    "end = 4\n",
    "print(slice_tuple(tup,start,end))\n"
   ]
  },
  {
   "cell_type": "markdown",
   "id": "2cadf89f-78dc-44e4-a5e5-3c1a9acb4a98",
   "metadata": {},
   "source": [
    "Question 26"
   ]
  },
  {
   "cell_type": "code",
   "execution_count": 20,
   "id": "a6153a57-2c7a-446d-9775-53a9ff16e0ce",
   "metadata": {},
   "outputs": [
    {
     "name": "stdin",
     "output_type": "stream",
     "text": [
      "enter the set1 a,b,c,d,e,f\n",
      "enter the set2 b,c,d,e,f,g,h,i\n"
     ]
    },
    {
     "name": "stdout",
     "output_type": "stream",
     "text": [
      "{'a', 'h', 'd', 'f', 'i', 'e', 'c', 'b', 'g'}\n"
     ]
    }
   ],
   "source": [
    "s1 = set(input(\"enter the set1\").split(','))\n",
    "s2 = set(input(\"enter the set2\").split(','))\n",
    "result = s1|s2\n",
    "print(result)"
   ]
  },
  {
   "cell_type": "markdown",
   "id": "c4263b8e-a857-452c-8a26-8fe45021b8e2",
   "metadata": {},
   "source": [
    "Question 27"
   ]
  },
  {
   "cell_type": "code",
   "execution_count": 23,
   "id": "c44107de-4d6f-4f3f-adb4-9f4d2acc99f1",
   "metadata": {},
   "outputs": [
    {
     "name": "stdout",
     "output_type": "stream",
     "text": [
      "the maximum :  9 \n",
      "the minimum : 1\n"
     ]
    }
   ],
   "source": [
    "def find_tuple(inp_tuple):\n",
    "    if not inp_tuple:\n",
    "        return None,None\n",
    "    max_value = max(inp_tuple)\n",
    "    min_value = min(inp_tuple)\n",
    "    return max_value,min_value\n",
    "t = (1,2,3,4,5,6,7,8,9)\n",
    "maxi ,mini = find_tuple(t)\n",
    "print(\"the maximum : \",maxi,\"\\nthe minimum :\",mini)"
   ]
  },
  {
   "cell_type": "markdown",
   "id": "46b4f70d-8378-4452-aac1-c5c27db5fcaa",
   "metadata": {},
   "source": [
    "Question 28"
   ]
  },
  {
   "cell_type": "code",
   "execution_count": 25,
   "id": "ad15706f-c4d6-4b79-b84b-a0a107429ade",
   "metadata": {},
   "outputs": [
    {
     "name": "stdout",
     "output_type": "stream",
     "text": [
      "the union of the set :  {1, 2, 3, 4, 5, 6, 7, 8, 9, 10} \n",
      "the intersection of set {5, 6} \n",
      "the difference of the set {1, 2, 3, 4}\n"
     ]
    }
   ],
   "source": [
    "s1 = {1,2,3,4,5,6}\n",
    "s2 = {5,6,7,8,9,10}\n",
    "union = s1|s2\n",
    "intersection = s1&s2\n",
    "diff = s1-s2\n",
    "print(\"the union of the set : \",union,\"\\nthe intersection of set\",intersection,\"\\nthe difference of the set\",diff)"
   ]
  },
  {
   "cell_type": "markdown",
   "id": "795e48ba-e5d1-4a29-bb13-b9caeea68cf6",
   "metadata": {},
   "source": [
    "Question 29"
   ]
  },
  {
   "cell_type": "code",
   "execution_count": 29,
   "id": "5d90cd1c-28bf-43e7-a9da-375f92f55c8f",
   "metadata": {},
   "outputs": [
    {
     "name": "stdout",
     "output_type": "stream",
     "text": [
      "the number of occurence of the elem in tuple :  3\n"
     ]
    }
   ],
   "source": [
    "def tuple_count(t,elem):\n",
    "    return t.count(elem)\n",
    "tup = (1,2,3,1,4,5,1,6,7)\n",
    "e = 1\n",
    "print(\"the number of occurence of the elem in tuple : \",tuple_count(tup,e))"
   ]
  },
  {
   "cell_type": "markdown",
   "id": "e266587b-fcbe-4e04-a647-1ec84124cfd6",
   "metadata": {},
   "source": [
    "Question 30"
   ]
  },
  {
   "cell_type": "code",
   "execution_count": 30,
   "id": "fe8091c8-4aca-4aee-afef-27d04210615f",
   "metadata": {},
   "outputs": [
    {
     "name": "stdin",
     "output_type": "stream",
     "text": [
      "enter the set1 hello,python,datascience\n",
      "enter the set2 hello,python\n"
     ]
    },
    {
     "name": "stdout",
     "output_type": "stream",
     "text": [
      "the semmetric difference is :  {'datascience'}\n"
     ]
    }
   ],
   "source": [
    "s1 = set(input(\"enter the set1\").split(','))\n",
    "s2 = set(input(\"enter the set2\").split(','))\n",
    "print(\"the semmetric difference is : \",s1^s2)"
   ]
  },
  {
   "cell_type": "markdown",
   "id": "2fcbb6fb-99b2-41a7-a035-dae0816f545d",
   "metadata": {},
   "source": [
    "Question 31"
   ]
  },
  {
   "cell_type": "code",
   "execution_count": 34,
   "id": "e0609135-6985-46eb-8e31-c2dea46c239f",
   "metadata": {},
   "outputs": [
    {
     "name": "stdout",
     "output_type": "stream",
     "text": [
      "the result dictionary is :  {'apple': 3, 'banana': 2, 'orange': 2, 'grape': 1, 'kiwi': 1}\n"
     ]
    }
   ],
   "source": [
    "def freq_word(my_list):\n",
    "    dict={}\n",
    "    count =1 \n",
    "    for i in my_list:\n",
    "        if i  in dict:\n",
    "            dict[i]+=1\n",
    "        else:\n",
    "            dict[i] = count\n",
    "    return dict\n",
    "my_list=[\"apple\", \"banana\", \"orange\", \"apple\", \"grape\", \"banana\", \"kiwi\", \"orange\", \"apple\"]\n",
    "print(\"the result dictionary is : \",freq_word(my_list))"
   ]
  },
  {
   "cell_type": "markdown",
   "id": "e58c6c8e-9e6f-40f6-97d3-2d722c525511",
   "metadata": {},
   "source": [
    "Question 32"
   ]
  },
  {
   "cell_type": "code",
   "execution_count": 39,
   "id": "b67f02bf-e7de-4389-b64d-b96fcca5896d",
   "metadata": {},
   "outputs": [
    {
     "name": "stdout",
     "output_type": "stream",
     "text": [
      "the merged dict is :  {'apple': 8, 'banana': 2, 'orange': 5, 'grape': 1, 'kiwi': 3, 'pineapple': 4}\n"
     ]
    }
   ],
   "source": [
    "def merge_dict(dict1,dict2):\n",
    "    merged_dict = dict.copy()\n",
    "    for key,value in dict2.items():\n",
    "        if key in merged_dict:\n",
    "            merged_dict[key]+=value\n",
    "        else:\n",
    "            merged_dict[key] = value\n",
    "    return merged_dict\n",
    "dict1 = {\"apple\": 3, \"banana\": 2, \"orange\": 1, \"grape\": 5}\n",
    "dict2 = {\"apple\": 5, \"kiwi\": 2, \"orange\": 3, \"pineapple\": 4}\n",
    "print(\"the merged dict is : \",merge_dict(dict1,dict2))"
   ]
  },
  {
   "cell_type": "markdown",
   "id": "722486f0-4836-4739-87ab-9ad00f63edfa",
   "metadata": {},
   "source": [
    "Question 33"
   ]
  },
  {
   "cell_type": "code",
   "execution_count": 6,
   "id": "ed5ac312-afae-4e63-ba9b-ba76677b99c8",
   "metadata": {},
   "outputs": [
    {
     "name": "stdout",
     "output_type": "stream",
     "text": [
      "THE UPDATED DICT IS : {'c': 123, 'd': 321}\n"
     ]
    }
   ],
   "source": [
    "def get_dict(dict,keys):\n",
    "    new_dict = dict.copy()\n",
    "    for key in keys:\n",
    "        if key in new_dict:\n",
    "            new_dict = new_dict[key]\n",
    "        else:\n",
    "            return None\n",
    "    return new_dict\n",
    "nested_dict = {'a':{'b':{'c':123,'d':321}},'e':{'f':64}}\n",
    "list_key = ['a','b']\n",
    "print(\"THE UPDATED DICT IS :\",get_dict(nested_dict,list_key))\n"
   ]
  },
  {
   "cell_type": "markdown",
   "id": "5bd23a4a-7dae-40ea-83fe-fe481771da3e",
   "metadata": {},
   "source": [
    "Question 34"
   ]
  },
  {
   "cell_type": "code",
   "execution_count": 7,
   "id": "2687b89c-8ead-40a7-911e-71546605e1f3",
   "metadata": {},
   "outputs": [
    {
     "data": {
      "text/plain": [
       "dict_items([(1, 'hello'), (2, 'vijay'), (3, 'how')])"
      ]
     },
     "execution_count": 7,
     "metadata": {},
     "output_type": "execute_result"
    }
   ],
   "source": [
    "dict1 = {1:\"hello\",2:\"vijay\",3:\"how\"}\n",
    "dict1.items()"
   ]
  },
  {
   "cell_type": "code",
   "execution_count": 4,
   "id": "d613c0f6-7bee-40bf-919c-047c43c55152",
   "metadata": {},
   "outputs": [
    {
     "name": "stdout",
     "output_type": "stream",
     "text": [
      "{'rohit': 78, 'raju': 89, 'rakshit': 99}\n"
     ]
    }
   ],
   "source": [
    "def sort_dict(sorted_dict):\n",
    "    sorted_dict = dict(sorted(sorted_dict.items(),key = lambda x : x[1]))#ascending order\n",
    "    return sorted_dict\n",
    "dict1 = {\"rohit\":78,\"rakshit\":99,\"raju\":89}\n",
    "\n",
    "print(sort_dict(dict1))"
   ]
  },
  {
   "cell_type": "markdown",
   "id": "5287761d-4d33-4b90-b7b5-c3df418e9a17",
   "metadata": {},
   "source": [
    "Question 35"
   ]
  },
  {
   "cell_type": "code",
   "execution_count": 7,
   "id": "c8acec8e-7ed9-4a65-a8f6-39472ddda159",
   "metadata": {},
   "outputs": [
    {
     "name": "stdout",
     "output_type": "stream",
     "text": [
      "{1: ['a', 'c'], 2: ['b', 'e'], 3: ['d']}\n"
     ]
    }
   ],
   "source": [
    "def inverted_dict(dict1):\n",
    "    invert_dict = {}\n",
    "    for key,value in dict1.items():\n",
    "        if value in invert_dict:\n",
    "            invert_dict[value].append(key)\n",
    "        else:\n",
    "            invert_dict[value] = [key]\n",
    "    return invert_dict\n",
    "my_dict = {'a': 1, 'b': 2, 'c': 1, 'd': 3, 'e': 2}\n",
    "print(inverted_dict(my_dict))"
   ]
  },
  {
   "cell_type": "code",
   "execution_count": null,
   "id": "104b0d62-eb76-4ddd-90ec-b4f6a13a2b5d",
   "metadata": {},
   "outputs": [],
   "source": []
  }
 ],
 "metadata": {
  "kernelspec": {
   "display_name": "Python 3 (ipykernel)",
   "language": "python",
   "name": "python3"
  },
  "language_info": {
   "codemirror_mode": {
    "name": "ipython",
    "version": 3
   },
   "file_extension": ".py",
   "mimetype": "text/x-python",
   "name": "python",
   "nbconvert_exporter": "python",
   "pygments_lexer": "ipython3",
   "version": "3.11.7"
  }
 },
 "nbformat": 4,
 "nbformat_minor": 5
}
